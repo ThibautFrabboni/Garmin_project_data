{
 "cells": [
  {
   "cell_type": "code",
   "execution_count": 27,
   "metadata": {},
   "outputs": [],
   "source": [
    "import pandas as pd \n",
    "import json \n",
    "import os"
   ]
  },
  {
   "cell_type": "markdown",
   "metadata": {},
   "source": [
    "Fichier \"summarizedActivities.json\" : \n",
    "Ce fichier contient des objets json qui représente à chaque fois une activité "
   ]
  },
  {
   "cell_type": "code",
   "execution_count": 28,
   "metadata": {},
   "outputs": [],
   "source": [
    "#Cette fonction permet de récupérer les features choisis dans les données des activités\n",
    "#Elle prend en entrée le fichier json des activités d'un utilisateur et un nom pour le fichier csv de sortie afin d'assurer la tracabilité.\n",
    "def Summarized(fichier, nom : str):\n",
    "    with open(fichier) as summarized:\n",
    "        data =json.load(summarized)\n",
    "    data_list = []\n",
    "\n",
    "    for entry in data:\n",
    "        for i in range(len(entry[\"summarizedActivitiesExport\"])):\n",
    "            #activity_type\n",
    "            activity_type = entry[\"summarizedActivitiesExport\"][i]['activityType']\n",
    "            #begintimestamp\n",
    "            if \"beginTimestamp\" in entry[\"summarizedActivitiesExport\"][i]:\n",
    "                beginTimestamp = entry[\"summarizedActivitiesExport\"][i]['beginTimestamp']\n",
    "            else:\n",
    "                beginTimestamp = None\n",
    "            #duration\n",
    "            duration = entry[\"summarizedActivitiesExport\"][i]['duration']\n",
    "            #startLatitude\n",
    "            if \"startLatitude\" in entry[\"summarizedActivitiesExport\"][i]:\n",
    "                startLatitude = entry[\"summarizedActivitiesExport\"][i][\"startLatitude\"]\n",
    "            else:\n",
    "                startLatitude = None\n",
    "            #startLongitude\n",
    "            if \"startLongitude\" in entry[\"summarizedActivitiesExport\"][i]:\n",
    "                startLongitude = entry[\"summarizedActivitiesExport\"][i][\"startLongitude\"]\n",
    "            else:\n",
    "                startLongitude = None\n",
    "\n",
    "\n",
    "\n",
    "\n",
    "            data_list.append({'activity_type': activity_type, 'begintimestamp': beginTimestamp, 'duration': duration,  \n",
    "                            'startLatitude': startLatitude, 'startLongitude': startLongitude\n",
    "\n",
    "                        \n",
    "                        })\n",
    "        \n",
    "    df_activity = pd.DataFrame(data_list)\n",
    "\n",
    "    df_activity['begintimestamp'] = pd.to_datetime(df_activity['begintimestamp'], unit='ms') #UTC si jaja\n",
    "    df_activity['duration'] = pd.to_timedelta(df_activity['duration'], unit='ms')\n",
    "    df_activity['endtimestamp'] = df_activity['begintimestamp'] + pd.to_timedelta(df_activity['duration'])\n",
    "    df_activity['endtimestamp'] = df_activity['endtimestamp'].dt.strftime('%Y-%m-%d %H:%M:%S')\n",
    "    df_activity['Date'] = df_activity['begintimestamp'].dt.strftime('%Y-%m-%d')\n",
    "    df_activity['duration'] = df_activity['duration'].dt.total_seconds().apply(lambda x: pd.to_datetime(x, unit='s').strftime('%H:%M:%S'))\n",
    "    \n",
    "    file_path = '/Users/thibaut/Desktop/Garmin_Project_ML/Data/Activities/'\n",
    "    if not os.path.exists(file_path):\n",
    "        os.makedirs(file_path)\n",
    "    df_activity.to_csv(f\"{file_path}ACTIVITY_data_{nom}.csv\", index=False)\n",
    "    \n"
   ]
  },
  {
   "cell_type": "code",
   "execution_count": 29,
   "metadata": {},
   "outputs": [],
   "source": [
    "# #Cette fonction permet de récupérer les features choisis dans les données des activités\n",
    "# #Elle prend en entrée le fichier json des activités d'un utilisateur et un nom pour le fichier csv de sortie afin d'assurer la tracabilité.\n",
    "# def Summarized(fichier, nom : str):\n",
    "#     with open(fichier) as summarized:\n",
    "#         data =json.load(summarized)\n",
    "#     data_list = []\n",
    "\n",
    "#     for entry in data:\n",
    "#         for activity in entry[\"summarizedActivitiesExport\"]:\n",
    "#             #activityType\n",
    "#             activity_type = activity.get['activityType', None]\n",
    "#             #beginTimestamp\n",
    "#             beginTimestamp = activity.get('beginTimestamp', None)\n",
    "#             #duration\n",
    "#             duration = activity.get['duration', None]\n",
    "#             #startLatitude\n",
    "#             startLatitude = activity.get('startLatitude', None)\n",
    "#             #startLongitude\n",
    "#             startLongitude = activity.get('startLongitude', None)\n",
    "            \n",
    "#             #Ajoute les données dans la liste\n",
    "#             data_list.append({'activity_type': activity_type, 'begintimestamp': beginTimestamp, 'duration': duration,  \n",
    "#                             'startLatitude': startLatitude, 'startLongitude': startLongitude\n",
    "\n",
    "                        \n",
    "#                         })\n",
    "#     #Transforme la liste en dataframe\n",
    "#     df_activity = pd.DataFrame(data_list)\n",
    "#     #Quelques pré-traitements ici qui permettent d'avoir les données au même format que dans les autres fichiers de données (Sleep/UDS).\n",
    "#     #Notamment au niveau de la date car c'est sur ce feature que les dataframes seront merged.\n",
    "#     df_activity['begintimestamp'] = pd.to_datetime(df_activity['begintimestamp'], unit='ms') #UTC si jaja\n",
    "#     df_activity['duration'] = pd.to_timedelta(df_activity['duration'], unit='ms')\n",
    "#     df_activity['endtimestamp'] = df_activity['begintimestamp'] + pd.to_timedelta(df_activity['duration'])\n",
    "#     df_activity['endtimestamp'] = df_activity['endtimestamp'].dt.strftime('%Y-%m-%d %H:%M:%S')\n",
    "#     df_activity['Date'] = df_activity['begintimestamp'].dt.strftime('%Y-%m-%d')\n",
    "#     df_activity['duration'] = df_activity['duration'].dt.total_seconds().apply(lambda x: pd.to_datetime(x, unit='s').strftime('%H:%M:%S'))\n",
    "#     #Chemin du dossier pour stocker les fichiers exportés \n",
    "#     file_path = '/Users/thibaut/Desktop/Garmin_Project_ML/Data/Activities/'\n",
    "#     if not os.path.exists(file_path):\n",
    "#         os.makedirs(file_path)\n",
    "#     df_activity.to_csv(f\"{file_path}ACTIVITY_data_{nom}.csv\", index=False)"
   ]
  },
  {
   "cell_type": "markdown",
   "metadata": {},
   "source": [
    "Il n'y a que 1 fichier d'activités par utilisateur donc un appel à la fonction par utilisateur suffit"
   ]
  },
  {
   "cell_type": "code",
   "execution_count": 30,
   "metadata": {},
   "outputs": [],
   "source": [
    "fichier_T = \"/Users/thibaut/Desktop/Garmin_Project_ML/Data/Garmin_T/DI_CONNECT/DI-Connect-Fitness/thibaut.frabb@gmail.com_0_summarizedActivities.json\"\n",
    "Summarized(fichier_T, \"T\")\n"
   ]
  },
  {
   "cell_type": "code",
   "execution_count": 31,
   "metadata": {},
   "outputs": [],
   "source": [
    "fichier_M = \"/Users/thibaut/Desktop/Garmin_Project_ML/Data/Garmin_M/DI_CONNECT/DI-Connect-Fitness/maxime.frab@gmail.com_0_summarizedActivities.json\"\n",
    "Summarized(fichier_M, \"M\")"
   ]
  },
  {
   "cell_type": "code",
   "execution_count": 32,
   "metadata": {},
   "outputs": [],
   "source": [
    "fichier_G = \"/Users/thibaut/Desktop/Garmin_Project_ML/Data/Garmin_G/DI_CONNECT/DI-Connect-Fitness/bag.sava11@gmail.com_0_summarizedActivities.json\"\n",
    "Summarized(fichier_G, \"G\")"
   ]
  },
  {
   "cell_type": "code",
   "execution_count": 33,
   "metadata": {},
   "outputs": [],
   "source": [
    "fichier_D = \"/Users/thibaut/Desktop/Garmin_Project_ML/Data/Garmin_D/DI_CONNECT/DI-Connect-Fitness/challandesdounia@gmail.com_0_summarizedActivities.json\"\n",
    "Summarized(fichier_D, \"D\")"
   ]
  },
  {
   "cell_type": "markdown",
   "metadata": {},
   "source": [
    "Module qui permettait de transformer les coordonnées GPS en une adresse mais le feature des coordonnées sera utilisé finalement"
   ]
  },
  {
   "cell_type": "code",
   "execution_count": 34,
   "metadata": {},
   "outputs": [],
   "source": [
    "# from geopy.geocoders import Nominatim\n",
    "# from geopy.point import Point\n",
    "\n",
    "# df_activity['Point'] = df_activity['GPS'].apply(lambda x: Point(x) if x is not None else None)\n",
    "# geolocator = Nominatim(user_agent=\"my_geocoder\")\n",
    "# df_activity['address'] = df_activity['Point'].apply(lambda x: geolocator.reverse(x).address if x is not None else None)\n",
    "\n"
   ]
  }
 ],
 "metadata": {
  "kernelspec": {
   "display_name": "Python 3",
   "language": "python",
   "name": "python3"
  },
  "language_info": {
   "codemirror_mode": {
    "name": "ipython",
    "version": 3
   },
   "file_extension": ".py",
   "mimetype": "text/x-python",
   "name": "python",
   "nbconvert_exporter": "python",
   "pygments_lexer": "ipython3",
   "version": "3.12.0"
  }
 },
 "nbformat": 4,
 "nbformat_minor": 2
}
